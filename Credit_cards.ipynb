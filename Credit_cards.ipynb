{
  "nbformat": 4,
  "nbformat_minor": 0,
  "metadata": {
    "colab": {
      "name": "Credit cards.ipynb",
      "provenance": [],
      "collapsed_sections": []
    },
    "kernelspec": {
      "name": "python3",
      "display_name": "Python 3"
    },
    "language_info": {
      "name": "python"
    }
  },
  "cells": [
    {
      "cell_type": "code",
      "metadata": {
        "id": "OL7Q-h3eCsGs"
      },
      "source": [
        "import numpy as np\n",
        "import pandas as pd\n",
        "import matplotlib.pyplot as plt\n",
        "import seaborn as sb\n",
        "import copy\n",
        "%matplotlib inline"
      ],
      "execution_count": 69,
      "outputs": []
    },
    {
      "cell_type": "markdown",
      "metadata": {
        "id": "Zxf_N2t3Cv5-"
      },
      "source": [
        "## **Import data**"
      ]
    },
    {
      "cell_type": "code",
      "metadata": {
        "colab": {
          "resources": {
            "http://localhost:8080/nbextensions/google.colab/files.js": {
              "data": "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",
              "ok": true,
              "headers": [
                [
                  "content-type",
                  "application/javascript"
                ]
              ],
              "status": 200,
              "status_text": ""
            }
          },
          "base_uri": "https://localhost:8080/",
          "height": 72
        },
        "id": "3i-ETiqFCuee",
        "outputId": "2c233357-2695-432a-efb3-763f8b44e7a2"
      },
      "source": [
        "from google.colab import files\n",
        "uploaded = files.upload()"
      ],
      "execution_count": 70,
      "outputs": [
        {
          "output_type": "display_data",
          "data": {
            "text/html": [
              "\n",
              "     <input type=\"file\" id=\"files-5bde853b-0c49-4ed0-872e-e46972b94cbb\" name=\"files[]\" multiple disabled\n",
              "        style=\"border:none\" />\n",
              "     <output id=\"result-5bde853b-0c49-4ed0-872e-e46972b94cbb\">\n",
              "      Upload widget is only available when the cell has been executed in the\n",
              "      current browser session. Please rerun this cell to enable.\n",
              "      </output>\n",
              "      <script src=\"/nbextensions/google.colab/files.js\"></script> "
            ],
            "text/plain": [
              "<IPython.core.display.HTML object>"
            ]
          },
          "metadata": {}
        },
        {
          "output_type": "stream",
          "text": [
            "Saving Credit_cards_App_data.xlsx to Credit_cards_App_data (1).xlsx\n"
          ],
          "name": "stdout"
        }
      ]
    },
    {
      "cell_type": "code",
      "metadata": {
        "colab": {
          "base_uri": "https://localhost:8080/",
          "height": 632
        },
        "id": "UoW-jg-TDccZ",
        "outputId": "8ffeca99-0b71-4620-a7a3-1c2da82bce72"
      },
      "source": [
        "df = pd.read_excel('Credit_cards_App_data.xlsx')\n",
        "df.head()"
      ],
      "execution_count": 71,
      "outputs": [
        {
          "output_type": "execute_result",
          "data": {
            "text/html": [
              "<div>\n",
              "<style scoped>\n",
              "    .dataframe tbody tr th:only-of-type {\n",
              "        vertical-align: middle;\n",
              "    }\n",
              "\n",
              "    .dataframe tbody tr th {\n",
              "        vertical-align: top;\n",
              "    }\n",
              "\n",
              "    .dataframe thead th {\n",
              "        text-align: right;\n",
              "    }\n",
              "</style>\n",
              "<table border=\"1\" class=\"dataframe\">\n",
              "  <thead>\n",
              "    <tr style=\"text-align: right;\">\n",
              "      <th></th>\n",
              "      <th>Application id</th>\n",
              "      <th>first_name</th>\n",
              "      <th>last_name</th>\n",
              "      <th>email</th>\n",
              "      <th>gender</th>\n",
              "      <th>address</th>\n",
              "      <th>age</th>\n",
              "      <th>tdecision</th>\n",
              "      <th>empstaus</th>\n",
              "      <th>ExCus (Customer in Past)</th>\n",
              "      <th>Source</th>\n",
              "      <th>Salary</th>\n",
              "      <th>ExDebt (Liability)</th>\n",
              "      <th>Booking</th>\n",
              "      <th>INT_ID</th>\n",
              "      <th>Prev_ID</th>\n",
              "      <th>AGT_ID</th>\n",
              "      <th>Booking_Amt</th>\n",
              "    </tr>\n",
              "  </thead>\n",
              "  <tbody>\n",
              "    <tr>\n",
              "      <th>0</th>\n",
              "      <td>1</td>\n",
              "      <td>Dollie</td>\n",
              "      <td>Scafe</td>\n",
              "      <td>dscafe0@is.gd</td>\n",
              "      <td>Female</td>\n",
              "      <td>02 Garrison Pass</td>\n",
              "      <td>34</td>\n",
              "      <td>Pending</td>\n",
              "      <td>SE</td>\n",
              "      <td>Y</td>\n",
              "      <td>EC</td>\n",
              "      <td>127110</td>\n",
              "      <td>25130</td>\n",
              "      <td>NaN</td>\n",
              "      <td>6869736235</td>\n",
              "      <td>79-489-1539</td>\n",
              "      <td>Mozilla/5.0 (Macintosh; U; Intel Mac OS X 10_6...</td>\n",
              "      <td>NaN</td>\n",
              "    </tr>\n",
              "    <tr>\n",
              "      <th>1</th>\n",
              "      <td>2</td>\n",
              "      <td>Austin</td>\n",
              "      <td>Pennycook</td>\n",
              "      <td>apennycook1@mac.com</td>\n",
              "      <td>Male</td>\n",
              "      <td>007 Miller Road</td>\n",
              "      <td>57</td>\n",
              "      <td>Approve</td>\n",
              "      <td>SE</td>\n",
              "      <td>Y</td>\n",
              "      <td>D</td>\n",
              "      <td>464039</td>\n",
              "      <td>22311</td>\n",
              "      <td>Y</td>\n",
              "      <td>9694176212</td>\n",
              "      <td>92-247-0058</td>\n",
              "      <td>Mozilla/5.0 (Windows; U; Windows NT 5.1; zh-TW...</td>\n",
              "      <td>278423.4</td>\n",
              "    </tr>\n",
              "    <tr>\n",
              "      <th>2</th>\n",
              "      <td>3</td>\n",
              "      <td>Mareah</td>\n",
              "      <td>Tomanek</td>\n",
              "      <td>mtomanek2@bloomberg.com</td>\n",
              "      <td>Female</td>\n",
              "      <td>145 Charing Cross Junction</td>\n",
              "      <td>57</td>\n",
              "      <td>Approve</td>\n",
              "      <td>SE</td>\n",
              "      <td>Y</td>\n",
              "      <td>3P</td>\n",
              "      <td>584420</td>\n",
              "      <td>28557</td>\n",
              "      <td>Y</td>\n",
              "      <td>152387684</td>\n",
              "      <td>36-236-3028</td>\n",
              "      <td>Mozilla/5.0 (Windows NT 5.1; rv:21.0) Gecko/20...</td>\n",
              "      <td>350652.0</td>\n",
              "    </tr>\n",
              "    <tr>\n",
              "      <th>3</th>\n",
              "      <td>4</td>\n",
              "      <td>Myrna</td>\n",
              "      <td>Rosenthaler</td>\n",
              "      <td>mrosenthaler3@dmoz.org</td>\n",
              "      <td>Female</td>\n",
              "      <td>268 Algoma Hill</td>\n",
              "      <td>59</td>\n",
              "      <td>Approve</td>\n",
              "      <td>SE</td>\n",
              "      <td>Y</td>\n",
              "      <td>3P</td>\n",
              "      <td>583781</td>\n",
              "      <td>26042</td>\n",
              "      <td>Y</td>\n",
              "      <td>6510396556</td>\n",
              "      <td>34-339-0917</td>\n",
              "      <td>Mozilla/5.0 (Windows; U; Windows NT 6.1; cs-CZ...</td>\n",
              "      <td>350268.6</td>\n",
              "    </tr>\n",
              "    <tr>\n",
              "      <th>4</th>\n",
              "      <td>5</td>\n",
              "      <td>Danyette</td>\n",
              "      <td>Stempe</td>\n",
              "      <td>dstempe4@tumblr.com</td>\n",
              "      <td>Female</td>\n",
              "      <td>571 Stone Corner Park</td>\n",
              "      <td>51</td>\n",
              "      <td>Approve</td>\n",
              "      <td>SE</td>\n",
              "      <td>N</td>\n",
              "      <td>MP</td>\n",
              "      <td>551718</td>\n",
              "      <td>27892</td>\n",
              "      <td>Y</td>\n",
              "      <td>7141853006</td>\n",
              "      <td>94-098-8902</td>\n",
              "      <td>Mozilla/5.0 (iPhone; U; CPU iPhone OS 4_2_1 li...</td>\n",
              "      <td>331030.8</td>\n",
              "    </tr>\n",
              "  </tbody>\n",
              "</table>\n",
              "</div>"
            ],
            "text/plain": [
              "   Application id  ... Booking_Amt\n",
              "0               1  ...         NaN\n",
              "1               2  ...    278423.4\n",
              "2               3  ...    350652.0\n",
              "3               4  ...    350268.6\n",
              "4               5  ...    331030.8\n",
              "\n",
              "[5 rows x 18 columns]"
            ]
          },
          "metadata": {},
          "execution_count": 71
        }
      ]
    },
    {
      "cell_type": "code",
      "metadata": {
        "colab": {
          "base_uri": "https://localhost:8080/"
        },
        "id": "Mrq7lOnoG_WB",
        "outputId": "e1d24136-350f-4d5b-dc84-d2c50c6f83c7"
      },
      "source": [
        "df.shape                                      # prints number of rows and columns of data"
      ],
      "execution_count": 72,
      "outputs": [
        {
          "output_type": "execute_result",
          "data": {
            "text/plain": [
              "(1000, 18)"
            ]
          },
          "metadata": {},
          "execution_count": 72
        }
      ]
    },
    {
      "cell_type": "markdown",
      "metadata": {
        "id": "uehpGhBLGqon"
      },
      "source": [
        "## **Exploratory data analysis**"
      ]
    },
    {
      "cell_type": "markdown",
      "metadata": {
        "id": "gxW3Kc_yqwzA"
      },
      "source": [
        "**Creating a duplicate df**"
      ]
    },
    {
      "cell_type": "code",
      "metadata": {
        "id": "M3DirnqlqexI"
      },
      "source": [
        "df_copy = df.copy()                           # preserve original df"
      ],
      "execution_count": 73,
      "outputs": []
    },
    {
      "cell_type": "markdown",
      "metadata": {
        "id": "CyMD2GRdG06w"
      },
      "source": [
        "**Identify missing data**"
      ]
    },
    {
      "cell_type": "code",
      "metadata": {
        "colab": {
          "base_uri": "https://localhost:8080/"
        },
        "id": "ANdf1MA8H1O_",
        "outputId": "2d7fcae7-b85f-4512-bffe-579f220cfb2b"
      },
      "source": [
        "print(df_copy.info())"
      ],
      "execution_count": 74,
      "outputs": [
        {
          "output_type": "stream",
          "text": [
            "<class 'pandas.core.frame.DataFrame'>\n",
            "RangeIndex: 1000 entries, 0 to 999\n",
            "Data columns (total 18 columns):\n",
            " #   Column                    Non-Null Count  Dtype  \n",
            "---  ------                    --------------  -----  \n",
            " 0   Application id            1000 non-null   int64  \n",
            " 1   first_name                1000 non-null   object \n",
            " 2   last_name                 1000 non-null   object \n",
            " 3   email                     1000 non-null   object \n",
            " 4   gender                    1000 non-null   object \n",
            " 5   address                   1000 non-null   object \n",
            " 6   age                       1000 non-null   int64  \n",
            " 7   tdecision                 1000 non-null   object \n",
            " 8   empstaus                  1000 non-null   object \n",
            " 9   ExCus (Customer in Past)  1000 non-null   object \n",
            " 10  Source                    1000 non-null   object \n",
            " 11  Salary                    1000 non-null   int64  \n",
            " 12  ExDebt (Liability)        1000 non-null   int64  \n",
            " 13  Booking                   699 non-null    object \n",
            " 14  INT_ID                    1000 non-null   int64  \n",
            " 15  Prev_ID                   1000 non-null   object \n",
            " 16  AGT_ID                    1000 non-null   object \n",
            " 17  Booking_Amt               699 non-null    float64\n",
            "dtypes: float64(1), int64(5), object(12)\n",
            "memory usage: 140.8+ KB\n",
            "None\n"
          ],
          "name": "stdout"
        }
      ]
    },
    {
      "cell_type": "code",
      "metadata": {
        "id": "8ERiPcgFEu-v"
      },
      "source": [
        "# df_copy.isnull()                            # returns True if value is null"
      ],
      "execution_count": 75,
      "outputs": []
    },
    {
      "cell_type": "code",
      "metadata": {
        "colab": {
          "base_uri": "https://localhost:8080/"
        },
        "id": "NVsJlhA4G5jG",
        "outputId": "eea64a64-9d88-4b85-bc23-f0d4b716d061"
      },
      "source": [
        "df_copy.isnull().values.sum()                 # returns total number of null values in df"
      ],
      "execution_count": 76,
      "outputs": [
        {
          "output_type": "execute_result",
          "data": {
            "text/plain": [
              "602"
            ]
          },
          "metadata": {},
          "execution_count": 76
        }
      ]
    },
    {
      "cell_type": "code",
      "metadata": {
        "colab": {
          "base_uri": "https://localhost:8080/"
        },
        "id": "81jGQyLVIung",
        "outputId": "a77dc286-8748-4844-c8cf-034b1b62e94c"
      },
      "source": [
        "df_copy.isnull().sum()                        # returns number of null values in each column"
      ],
      "execution_count": 77,
      "outputs": [
        {
          "output_type": "execute_result",
          "data": {
            "text/plain": [
              "Application id                0\n",
              "first_name                    0\n",
              "last_name                     0\n",
              "email                         0\n",
              "gender                        0\n",
              "address                       0\n",
              "age                           0\n",
              "tdecision                     0\n",
              "empstaus                      0\n",
              "ExCus (Customer in Past)      0\n",
              "Source                        0\n",
              "Salary                        0\n",
              "ExDebt (Liability)            0\n",
              "Booking                     301\n",
              "INT_ID                        0\n",
              "Prev_ID                       0\n",
              "AGT_ID                        0\n",
              "Booking_Amt                 301\n",
              "dtype: int64"
            ]
          },
          "metadata": {},
          "execution_count": 77
        }
      ]
    },
    {
      "cell_type": "markdown",
      "metadata": {
        "id": "cplVmF432AGT"
      },
      "source": [
        "**Visualise Missing data**"
      ]
    },
    {
      "cell_type": "code",
      "metadata": {
        "colab": {
          "base_uri": "https://localhost:8080/",
          "height": 381
        },
        "id": "U4C2EJgNHVZF",
        "outputId": "2f6835c8-6577-4974-98b5-8f02776a1a2f"
      },
      "source": [
        "sb.heatmap(df_copy.isnull(), yticklabels=False, cbar = False, cmap=\"BuPu\")      # Purple lines depict NaN values\n",
        "plt.show()"
      ],
      "execution_count": 78,
      "outputs": [
        {
          "output_type": "display_data",
          "data": {
            "image/png": "[encoded data removed]",
            "text/plain": [
              "<Figure size 432x288 with 1 Axes>"
            ]
          },
          "metadata": {
            "needs_background": "light"
          }
        }
      ]
    },
    {
      "cell_type": "markdown",
      "metadata": {
        "id": "wg60Rk71Z0RS"
      },
      "source": [
        "Approximately 30% of 'Booking' is missing, ie. we can reasonable replace the null values with the mode values."
      ]
    },
    {
      "cell_type": "markdown",
      "metadata": {
        "id": "OZRdouce2F9y"
      },
      "source": [
        "**Visualise 'tdecision'**"
      ]
    },
    {
      "cell_type": "code",
      "metadata": {
        "colab": {
          "base_uri": "https://localhost:8080/",
          "height": 435
        },
        "id": "AA9u_8rLx9m_",
        "outputId": "2d399446-3690-4fe6-8ea0-317b7b0d1a9f"
      },
      "source": [
        "df_copy['tdecision'].value_counts().plot.bar()\n",
        "plt.ylabel('Number of applicants', fontsize=14)\n",
        "plt.xlabel('tdecision', fontsize=14)\n",
        "plt.title('Categories of tdecision',fontsize=15)\n",
        "\n",
        "plt.show()\n",
        "print(f\"\\nThe number of values in tdecision:\\n{df['tdecision'].value_counts()}\")"
      ],
      "execution_count": 96,
      "outputs": [
        {
          "output_type": "display_data",
          "data": {
            "image/png": "[encoded data removed]",
            "text/plain": [
              "<Figure size 432x288 with 1 Axes>"
            ]
          },
          "metadata": {}
        },
        {
          "output_type": "stream",
          "text": [
            "\n",
            "The number of values in tdecision:\n",
            "Approve    699\n",
            "Decline    213\n",
            "Pending     88\n",
            "Name: tdecision, dtype: int64\n"
          ],
          "name": "stdout"
        }
      ]
    },
    {
      "cell_type": "markdown",
      "metadata": {
        "id": "REBhp35WoTf0"
      },
      "source": [
        "**Percentage of values in tdecision**"
      ]
    },
    {
      "cell_type": "code",
      "metadata": {
        "colab": {
          "base_uri": "https://localhost:8080/"
        },
        "id": "beUE5W3Um4fJ",
        "outputId": "57afad24-7f3e-4bae-be7d-c88d9778c11d"
      },
      "source": [
        "(df['tdecision'].value_counts()/df['tdecision'].count()) * 100"
      ],
      "execution_count": 16,
      "outputs": [
        {
          "output_type": "execute_result",
          "data": {
            "text/plain": [
              "Approve    69.9\n",
              "Decline    21.3\n",
              "Pending     8.8\n",
              "Name: tdecision, dtype: float64"
            ]
          },
          "metadata": {},
          "execution_count": 16
        }
      ]
    },
    {
      "cell_type": "markdown",
      "metadata": {
        "id": "17FkZPt7NtxU"
      },
      "source": [
        "**As a pie chart**"
      ]
    },
    {
      "cell_type": "code",
      "metadata": {
        "colab": {
          "base_uri": "https://localhost:8080/",
          "height": 248
        },
        "id": "IDIXKROvJgcY",
        "outputId": "047d7bc8-2d1a-48e5-fe23-24aca95b9e34"
      },
      "source": [
        "labels = df['tdecision'].astype('category').cat.categories.tolist()\n",
        "counts = df['tdecision'].value_counts()\n",
        "sizes = [counts[var_cat] for var_cat in labels]\n",
        "fig1, ax1 = plt.subplots()\n",
        "ax1.pie(sizes, labels=labels, autopct='%1.1f%%', shadow=True)                   #autopct shows the %ge on plot\n",
        "ax1.axis('equal')\n",
        "plt.show()"
      ],
      "execution_count": 54,
      "outputs": [
        {
          "output_type": "display_data",
          "data": {
            "image/png": "[encoded data removed]",
            "text/plain": [
              "<Figure size 432x288 with 1 Axes>"
            ]
          },
          "metadata": {}
        }
      ]
    },
    {
      "cell_type": "markdown",
      "metadata": {
        "id": "cHNki4iqxMFq"
      },
      "source": [
        "**As a matrix**"
      ]
    },
    {
      "cell_type": "code",
      "metadata": {
        "colab": {
          "base_uri": "https://localhost:8080/"
        },
        "id": "iOQIZMAjwcKD",
        "outputId": "f15833b9-176a-4b15-c311-699037126560"
      },
      "source": [
        "dfmatrix = df_copy.copy()      \n",
        "\n",
        "from sklearn.preprocessing import LabelBinarizer\n",
        "\n",
        "lb = LabelBinarizer()\n",
        "lb_results = lb.fit_transform(dfmatrix['tdecision'])\n",
        "lb_results_df = pd.DataFrame(lb_results, columns=lb.classes_)\n",
        "\n",
        "print(lb_results_df)"
      ],
      "execution_count": 91,
      "outputs": [
        {
          "output_type": "stream",
          "text": [
            "     Approve  Decline  Pending\n",
            "0          0        0        1\n",
            "1          1        0        0\n",
            "2          1        0        0\n",
            "3          1        0        0\n",
            "4          1        0        0\n",
            "..       ...      ...      ...\n",
            "995        0        0        1\n",
            "996        1        0        0\n",
            "997        0        0        1\n",
            "998        0        0        1\n",
            "999        0        1        0\n",
            "\n",
            "[1000 rows x 3 columns]\n"
          ],
          "name": "stdout"
        }
      ]
    },
    {
      "cell_type": "markdown",
      "metadata": {
        "id": "03_E2PHl0_Tc"
      },
      "source": [
        "**Booking status according to tdecision**"
      ]
    },
    {
      "cell_type": "code",
      "metadata": {
        "colab": {
          "base_uri": "https://localhost:8080/",
          "height": 280
        },
        "id": "UFRDnF47vFCl",
        "outputId": "764c43cb-7219-4110-8def-fafeadf9c40f"
      },
      "source": [
        "sb.countplot(x='tdecision', hue='Booking', data = df)                           # before data cleaning\n",
        "plt.show()"
      ],
      "execution_count": 10,
      "outputs": [
        {
          "output_type": "display_data",
          "data": {
            "image/png": "[encoded data removed]",
            "text/plain": [
              "<Figure size 432x288 with 1 Axes>"
            ]
          },
          "metadata": {}
        }
      ]
    },
    {
      "cell_type": "code",
      "metadata": {
        "id": "ccLG05mQvor2"
      },
      "source": [
        "#sb.countplot(x='tdecision', hue='gender', data = df)                            # Booking status according to gender"
      ],
      "execution_count": 35,
      "outputs": []
    },
    {
      "cell_type": "code",
      "metadata": {
        "id": "cUcVWNWt2Wz9"
      },
      "source": [
        "#sb.distplot(df['age'],kde=False, bins=30)                                       # distribution of age\n",
        "# or\n",
        "# df['age'].hist(bins=30)"
      ],
      "execution_count": 36,
      "outputs": []
    },
    {
      "cell_type": "markdown",
      "metadata": {
        "id": "ECv5DrIW68Tv"
      },
      "source": [
        "## **Data Cleaning**"
      ]
    },
    {
      "cell_type": "markdown",
      "metadata": {
        "id": "y6MJCe0n7hk8"
      },
      "source": [
        "We will fill the missing values of 'Booking' by the mode of its current values"
      ]
    },
    {
      "cell_type": "code",
      "metadata": {
        "id": "sF4dnAzg47nd"
      },
      "source": [
        "df_copy['Booking'].fillna(df_copy['Booking'].mode()[0], inplace=True)"
      ],
      "execution_count": 97,
      "outputs": []
    },
    {
      "cell_type": "markdown",
      "metadata": {
        "id": "kHnlfAdwCG7d"
      },
      "source": [
        "**Creating new dataframe**"
      ]
    },
    {
      "cell_type": "code",
      "metadata": {
        "id": "7-yNF8CZB81Z"
      },
      "source": [
        "clean_df = pd.DataFrame(df_copy.iloc[:,[7,13]])      # clean df only has required columns"
      ],
      "execution_count": 99,
      "outputs": []
    },
    {
      "cell_type": "code",
      "metadata": {
        "colab": {
          "base_uri": "https://localhost:8080/",
          "height": 204
        },
        "id": "bkh-Vz1UCDhX",
        "outputId": "2ab8b8e0-ef8a-4af2-f987-ce3c38e74622"
      },
      "source": [
        "clean_df.head()"
      ],
      "execution_count": 100,
      "outputs": [
        {
          "output_type": "execute_result",
          "data": {
            "text/html": [
              "<div>\n",
              "<style scoped>\n",
              "    .dataframe tbody tr th:only-of-type {\n",
              "        vertical-align: middle;\n",
              "    }\n",
              "\n",
              "    .dataframe tbody tr th {\n",
              "        vertical-align: top;\n",
              "    }\n",
              "\n",
              "    .dataframe thead th {\n",
              "        text-align: right;\n",
              "    }\n",
              "</style>\n",
              "<table border=\"1\" class=\"dataframe\">\n",
              "  <thead>\n",
              "    <tr style=\"text-align: right;\">\n",
              "      <th></th>\n",
              "      <th>tdecision</th>\n",
              "      <th>Booking</th>\n",
              "    </tr>\n",
              "  </thead>\n",
              "  <tbody>\n",
              "    <tr>\n",
              "      <th>0</th>\n",
              "      <td>Pending</td>\n",
              "      <td>Y</td>\n",
              "    </tr>\n",
              "    <tr>\n",
              "      <th>1</th>\n",
              "      <td>Approve</td>\n",
              "      <td>Y</td>\n",
              "    </tr>\n",
              "    <tr>\n",
              "      <th>2</th>\n",
              "      <td>Approve</td>\n",
              "      <td>Y</td>\n",
              "    </tr>\n",
              "    <tr>\n",
              "      <th>3</th>\n",
              "      <td>Approve</td>\n",
              "      <td>Y</td>\n",
              "    </tr>\n",
              "    <tr>\n",
              "      <th>4</th>\n",
              "      <td>Approve</td>\n",
              "      <td>Y</td>\n",
              "    </tr>\n",
              "  </tbody>\n",
              "</table>\n",
              "</div>"
            ],
            "text/plain": [
              "  tdecision Booking\n",
              "0   Pending       Y\n",
              "1   Approve       Y\n",
              "2   Approve       Y\n",
              "3   Approve       Y\n",
              "4   Approve       Y"
            ]
          },
          "metadata": {},
          "execution_count": 100
        }
      ]
    },
    {
      "cell_type": "markdown",
      "metadata": {
        "id": "-bCL6WIwBYXd"
      },
      "source": [
        "**Visualization of missing data after cleaning**"
      ]
    },
    {
      "cell_type": "code",
      "metadata": {
        "colab": {
          "base_uri": "https://localhost:8080/",
          "height": 265
        },
        "id": "vNhEprGxz38m",
        "outputId": "d1b92dd1-1440-4f83-c42d-c554495f802b"
      },
      "source": [
        "sb.heatmap(clean_df.isnull(), yticklabels=False, cbar = False, cmap=\"BuPu\")       # Purple lines depict NaN values\n",
        "plt.show()"
      ],
      "execution_count": 102,
      "outputs": [
        {
          "output_type": "display_data",
          "data": {
            "image/png": "[encoded data removed]",
            "text/plain": [
              "<Figure size 432x288 with 1 Axes>"
            ]
          },
          "metadata": {}
        }
      ]
    },
    {
      "cell_type": "markdown",
      "metadata": {
        "id": "llAOstnxQgPC"
      },
      "source": [
        "Graph is blank, which means all NaN values have been handled"
      ]
    },
    {
      "cell_type": "markdown",
      "metadata": {
        "id": "gXaUsq23xWQU"
      },
      "source": [
        "**Booking status according to tdecision**"
      ]
    },
    {
      "cell_type": "code",
      "metadata": {
        "colab": {
          "base_uri": "https://localhost:8080/",
          "height": 297
        },
        "id": "0OzkHtXnwQXf",
        "outputId": "b6f13be1-de05-4489-f49f-120ea2d44b7c"
      },
      "source": [
        "sb.countplot(x='tdecision', hue='Booking', data = clean_df)                       # after data cleaning"
      ],
      "execution_count": 103,
      "outputs": [
        {
          "output_type": "execute_result",
          "data": {
            "text/plain": [
              "<matplotlib.axes._subplots.AxesSubplot at 0x7fae4a818b90>"
            ]
          },
          "metadata": {},
          "execution_count": 103
        },
        {
          "output_type": "display_data",
          "data": {
            "image/png": "[encoded data removed]",
            "text/plain": [
              "<Figure size 432x288 with 1 Axes>"
            ]
          },
          "metadata": {}
        }
      ]
    },
    {
      "cell_type": "code",
      "metadata": {
        "id": "YBw7WS7j0Bh5"
      },
      "source": [
        "aY = 0\n",
        "aN = 0 \n",
        "pY = 0\n",
        "pN = 0\n",
        "dY = 0\n",
        "dN = 0\n",
        "for i in range (0,1000):\n",
        "    if(clean_df.tdecision[i] == 'Approve' and clean_df.Booking[i] == 'Y'):\n",
        "        aY += 1\n",
        "    elif(clean_df.tdecision[i] == 'Approve' and clean_df.Booking[i] == 'N'):\n",
        "        aN += 1\n",
        "        \n",
        "    elif(clean_df.tdecision[i] == 'Pending' and clean_df.Booking[i] == 'Y'):\n",
        "        pY += 1\n",
        "    elif(clean_df.tdecision[i] == 'Pending' and clean_df.Booking[i] == 'N'):\n",
        "        pN += 1\n",
        "    elif(clean_df.tdecision[i] == 'Decline' and clean_df.Booking[i] == 'Y'):\n",
        "        dY += 1\n",
        "    elif(clean_df.tdecision[i] == 'Decline' and clean_df.Booking[i] == 'N'):\n",
        "        dN += 1\n",
        "     "
      ],
      "execution_count": 104,
      "outputs": []
    },
    {
      "cell_type": "code",
      "metadata": {
        "colab": {
          "base_uri": "https://localhost:8080/",
          "height": 142
        },
        "id": "82Poht8IEoT_",
        "outputId": "59ec8186-0e58-4984-87fd-dee4c5e105c3"
      },
      "source": [
        "df_status = pd.DataFrame({'tdecision': ['Approve', 'Pending', 'Decline'],\n",
        "                        'Y': [aY,pY,dY],\n",
        "                        'N': [aN,pN,dN]})\n",
        "df_status"
      ],
      "execution_count": 112,
      "outputs": [
        {
          "output_type": "execute_result",
          "data": {
            "text/html": [
              "<div>\n",
              "<style scoped>\n",
              "    .dataframe tbody tr th:only-of-type {\n",
              "        vertical-align: middle;\n",
              "    }\n",
              "\n",
              "    .dataframe tbody tr th {\n",
              "        vertical-align: top;\n",
              "    }\n",
              "\n",
              "    .dataframe thead th {\n",
              "        text-align: right;\n",
              "    }\n",
              "</style>\n",
              "<table border=\"1\" class=\"dataframe\">\n",
              "  <thead>\n",
              "    <tr style=\"text-align: right;\">\n",
              "      <th></th>\n",
              "      <th>tdecision</th>\n",
              "      <th>Y</th>\n",
              "      <th>N</th>\n",
              "    </tr>\n",
              "  </thead>\n",
              "  <tbody>\n",
              "    <tr>\n",
              "      <th>0</th>\n",
              "      <td>Approve</td>\n",
              "      <td>581</td>\n",
              "      <td>118</td>\n",
              "    </tr>\n",
              "    <tr>\n",
              "      <th>1</th>\n",
              "      <td>Pending</td>\n",
              "      <td>88</td>\n",
              "      <td>0</td>\n",
              "    </tr>\n",
              "    <tr>\n",
              "      <th>2</th>\n",
              "      <td>Decline</td>\n",
              "      <td>213</td>\n",
              "      <td>0</td>\n",
              "    </tr>\n",
              "  </tbody>\n",
              "</table>\n",
              "</div>"
            ],
            "text/plain": [
              "  tdecision    Y    N\n",
              "0   Approve  581  118\n",
              "1   Pending   88    0\n",
              "2   Decline  213    0"
            ]
          },
          "metadata": {},
          "execution_count": 112
        }
      ]
    }
  ]
}